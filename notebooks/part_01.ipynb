{
 "cells": [
  {
   "cell_type": "markdown",
   "metadata": {},
   "source": [
    "# Section 1: Downloading  and pre-processing Landsat satellite imagery "
   ]
  },
  {
   "cell_type": "markdown",
   "metadata": {},
   "source": [
    "## Overview"
   ]
  },
  {
   "cell_type": "markdown",
   "metadata": {},
   "source": [
    "Objectives:\n",
    "   * Get familiar with Landsat satellite imagery and understand the basic concepts of how to access the data. \n",
    "   * Automate the download of Landsat images through Google for a given Region of Interest (ROI).\n",
    "   * Pre-process the imagery for further analysis."
   ]
  },
  {
   "cell_type": "markdown",
   "metadata": {},
   "source": [
    "NASA's Landsat satellite programme is the longest standing programme for Earth observation (EO) imagery. It provides an open source, 46 year record of moderate resolution imagery and in addition captures Near- and Shortwave-Infrared, Thermal, and for the more recent missions, cirrus and panchromatic images. "
   ]
  },
  {
   "cell_type": "markdown",
   "metadata": {},
   "source": [
    "| Mission | Operational time | Revisit time | Resolution |\n",
    "|---|---|----|---|\n",
    "| Landsat 1 | 1972-1978 | 18 d | 80 m |\n",
    "| Landsat 2 | 1975-1982 | 18 d | 80 m |\n",
    "| Landsat 3 | 1978-1983 | 18 d | 80 m |\n",
    "| Landsat 4 | 1983-1993 | 16 d | 30 m |\n",
    "| Landsat 5 | 1984-2013 | 16 d | 30 m |\n",
    "| Landsat 7 | 1999-present | 16 d |15 m |\n",
    "| Landsat 8 | 2013-present | 16 d | 15 m|"
   ]
  },
  {
   "cell_type": "markdown",
   "metadata": {},
   "source": [
    "Other sources for free EO satellite imagery are:"
   ]
  },
  {
   "cell_type": "markdown",
   "metadata": {},
   "source": [
    "| Provider | Programme | Operational time | Revisit time | Resolution |\n",
    "|-|---|----|---|\n",
    "|European Space Agency | Sentinel | 2015-present| 5 d | 10m |\n",
    "|Planet Labs | Rapideye <br>Planetscope<br>Skysat | 2009-present | 4/5 d to daily | up to 0.8 m |\n",
    "|NASA | Orbview 3 | 2003-2007 | < 3 d |1-4 m |\n",
    "|NASA | EO-1 | 2003 -2017 | -- | 10-30 m|\n"
   ]
  },
  {
   "cell_type": "markdown",
   "metadata": {},
   "source": [
    "The Python libraries used in this tutorial are the following\n",
    "\n",
    "* [Matplotolib](https://matplotlib.org/contents.html):A Python 2D plotting library which produces publication quality figures in a variety of hardcopy formats and interactive environments across platforms. \n",
    "* [Numpy](https://docs.scipy.org/doc/): Adding support for large, multi-dimensional arrays and matrices, along with a large collection of high-level mathematical functions\n",
    "* [Pandas](https://pandas.pydata.org/pandas-docs/stable/):  Provides high-performance, easy-to-use data structures and data analysis tools \n",
    "* [GeoPandas](http://geopandas.org/): Python library that simplifies working with geospatil data\n",
    "* [Folium](http://folium.readthedocs.io/en/latest/): Python library that enables plotting interactive maps using leaflet\n",
    "* [Glob](https://docs.python.org/2/library/glob.html): Unix style pathname pattern expansion\n",
    "* [Landsat578](https://github.com/dgketchum/Landsat578): Simple Landsat imagery download tool\n",
    "* [Scikit-image](http://scikit-image.org/docs/dev/): Collection of algorithms for image processing\n",
    "* [Wget](https://pypi.org/project/wget/): Pure python download utility\n"
   ]
  },
  {
   "cell_type": "markdown",
   "metadata": {},
   "source": [
    "## Install all packages using Conda environment"
   ]
  },
  {
   "cell_type": "markdown",
   "metadata": {},
   "source": [
    "In the Anaconda command line navigate to the folder where the _workshop.yml_ file is located and run the following code:\n",
    "\n",
    "* conda env create -f workshop.yml"
   ]
  },
  {
   "cell_type": "code",
   "execution_count": 3,
   "metadata": {},
   "outputs": [],
   "source": [
    "# Import the packages you need to download satellite data\n",
    "\n",
    "# Plots graphs and figures within the notebook\n",
    "%matplotlib inline\n",
    "\n",
    "import matplotlib.pyplot as plt\n",
    "import pandas as pd\n",
    "import numpy as np\n",
    "import geopandas as gpd\n",
    "import folium\n",
    "import os, shutil\n",
    "import glob\n",
    "from landsat import google_download\n",
    "from google_download import GoogleDownload\n",
    "from skimage import io, transform, exposure\n",
    "import wget"
   ]
  },
  {
   "cell_type": "markdown",
   "metadata": {},
   "source": [
    "* Read in the bounding box shapefile\n",
    "\n",
    "In order to intersect our bounding box with the flight path of the satellite the coordinate system of the shapefile has to be WGS84 lat-long, which is equivalent to EPSG:4326."
   ]
  },
  {
   "cell_type": "code",
   "execution_count": 4,
   "metadata": {},
   "outputs": [],
   "source": [
    "# Specify the path to your shapefile\n",
    "shp='../data/Liverpool/Liverpool.shp'\n",
    "\n",
    "# Read the shapefile into a geopandas GeoDataFrame\n",
    "box = gpd.read_file(shp)"
   ]
  },
  {
   "cell_type": "code",
   "execution_count": 5,
   "metadata": {},
   "outputs": [
    {
     "data": {
      "text/plain": [
       "<matplotlib.axes._subplots.AxesSubplot at 0x7fa879490048>"
      ]
     },
     "execution_count": 5,
     "metadata": {},
     "output_type": "execute_result"
    },
    {
     "data": {
      "image/png": "[encoded data removed]",
      "text/plain": [
       "<Figure size 432x288 with 1 Axes>"
      ]
     },
     "metadata": {},
     "output_type": "display_data"
    }
   ],
   "source": [
    "# Change Coordinate Reference System to WGS84 (EPSG 4326) so that it can be \n",
    "# intersected with the WRS file and plot it\n",
    "bbox=box.to_crs({'init':'epsg:4326'})\n",
    "bbox.plot()"
   ]
  },
  {
   "cell_type": "markdown",
   "metadata": {},
   "source": [
    "The `data/wrs2_descending` folder includes a shapefile which contains the flight path of the Landsat satellites and shows the paht/row tuples."
   ]
  },
  {
   "cell_type": "markdown",
   "metadata": {},
   "source": [
    "* Intersect the two shapefiles\n",
    "\n",
    "To determine which images are relevant for our ROI, we need to intersect the flight path of the Landsat satellite with our ROI. This will give us path/row tuples that intersect with our ROI"
   ]
  },
  {
   "cell_type": "code",
   "execution_count": 6,
   "metadata": {},
   "outputs": [],
   "source": [
    "# Read the WRS file into a GeoPanda DataFrame\n",
    "wrs = gpd.read_file('../data/wrs2_descending/wrs2_descending.shp')"
   ]
  },
  {
   "cell_type": "code",
   "execution_count": 7,
   "metadata": {},
   "outputs": [],
   "source": [
    "# Check which polygons of the WRS file intersect with our shapefile geometry\n",
    "wrs_intersection=wrs[wrs.intersects(bbox.geometry[0])]"
   ]
  },
  {
   "cell_type": "code",
   "execution_count": 8,
   "metadata": {},
   "outputs": [],
   "source": [
    "# Specify that paths,rows variables are the ones that intersect\n",
    "paths,rows=wrs_intersection['PATH'].values, wrs_intersection['ROW'].values"
   ]
  },
  {
   "cell_type": "markdown",
   "metadata": {},
   "source": [
    "* Visualise the interesecting shapefiles\n",
    "\n",
    "This allows us to sort out images (path/row tuples) that only partially intersect with our ROI. "
   ]
  },
  {
   "cell_type": "code",
   "execution_count": 9,
   "metadata": {},
   "outputs": [
    {
     "data": {
      "text/html": [
       "<div style=\"width:100%;\"><div style=\"position:relative;width:100%;height:0;padding-bottom:60%;\"><iframe src=\"data:text/html;charset=utf-8;base64,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\" style=\"position:absolute;width:100%;height:100%;left:0;top:0;border:none !important;\" allowfullscreen webkitallowfullscreen mozallowfullscreen></iframe></div></div>"
      ],
      "text/plain": [
       "<folium.folium.Map at 0x7fa8774307b8>"
      ]
     },
     "execution_count": 9,
     "metadata": {},
     "output_type": "execute_result"
    }
   ],
   "source": [
    "# Visualise the output of the intersection with the shapefile using Folium\n",
    "\n",
    "# Get the center of the map\n",
    "xy = np.asarray(bbox.centroid[0].xy).squeeze()\n",
    "center = list(xy[::-1])\n",
    "\n",
    "# Select a zoom\n",
    "zoom =8\n",
    "\n",
    "# Create the most basic OSM folium map\n",
    "m = folium.Map(location=center, zoom_start=zoom, control_scale=True)\n",
    "\n",
    "# Add the bounding box (bbox) GeoDataFrame in red using a lambda function\n",
    "m.add_child(folium.GeoJson(bbox.__geo_interface__, name='Area of Interest', \n",
    "                            style_function=lambda x: {'color': 'red', 'alpha': 0}))\n",
    "\n",
    "\n",
    "# Iterate through each polygon of paths and rows intersecting the area\n",
    "for i, row in wrs_intersection.iterrows():\n",
    "    # Create a string for the name containing the path and row of this Polygon\n",
    "    name = 'path: %03d, row: %03d' % (row.PATH, row.ROW)\n",
    "    # Create the folium geometry of this Polygon \n",
    "    g = folium.GeoJson(row.geometry.__geo_interface__, name=name)\n",
    "    # Add a folium Popup object with the name string\n",
    "    g.add_child(folium.Popup(name))\n",
    "    # Add the object to the map\n",
    "    g.add_to(m)\n",
    "m"
   ]
  },
  {
   "cell_type": "code",
   "execution_count": 10,
   "metadata": {},
   "outputs": [
    {
     "name": "stdout",
     "output_type": "stream",
     "text": [
      "Image 1  -path: 203 row: 23\n",
      "Image 2  -path: 204 row: 23\n"
     ]
    }
   ],
   "source": [
    "# Display number of images and Path/Row of the image\n",
    "for i, (path,row) in enumerate(zip(paths,rows)):\n",
    "    print('Image', i+1, ' -path:', path, 'row:', row)"
   ]
  },
  {
   "cell_type": "markdown",
   "metadata": {},
   "source": [
    "# Download Landsat images from Google\n",
    "\n",
    "* As we now have the relevant path/row tuples for our ROI we can proceed to download the images. We can specifiy a time frame as well as the satellite we would like to obtain data from. Furthermore, we can specifiy the percentage of cloud cover in the image."
   ]
  },
  {
   "cell_type": "code",
   "execution_count": null,
   "metadata": {},
   "outputs": [],
   "source": [
    "# Download Tile list from Google - only needs to be done when first running \n",
    "# the code \n",
    "\n",
    "#Path to index file\n",
    "Index_PATH='../data/index.csv.gz'\n",
    "if os.path.exists(Index_PATH):\n",
    "    print('File already exists')\n",
    "\n",
    "else:\n",
    "    ! landsat --update-scenes yes\n",
    "    ! mv index.csv.gz ../data/index.csv.gz"
   ]
  },
  {
   "cell_type": "code",
   "execution_count": null,
   "metadata": {},
   "outputs": [],
   "source": [
    "# Define Google Download function\n",
    "\n",
    "def landsat_download(start_date, end_date, sat,path,row,cloud,output):\n",
    "    g=GoogleDownload(start=start_date, end=end_date, satellite=sat, path=path, row=row, max_cloud_percent=cloud, output_path=output)\n",
    "    g.download()"
   ]
  },
  {
   "cell_type": "code",
   "execution_count": null,
   "metadata": {},
   "outputs": [],
   "source": [
    "# Specify start and end date YYYY-MM-DD, which satellites to use [1-8] and the\n",
    "# output path where the files should be saved\n",
    "start_date='2017-01-01'\n",
    "end_date = '2018-06-01'\n",
    "cloud = 10\n",
    "satellites=[8]\n",
    "home = '../data/'\n",
    "output = os.path.join(home, 'Landsat_images')"
   ]
  },
  {
   "cell_type": "code",
   "execution_count": null,
   "metadata": {
    "collapsed": true
   },
   "outputs": [],
   "source": [
    "# Loop through the specified satellites for each path and row tuple\n",
    "for sat in satellites:\n",
    "    for i, (path,row) in enumerate(zip(paths,rows)):\n",
    "        print('Image', i+1, ' -path:', path, 'row:', row)\n",
    "        landsat_download(start_date, end_date,sat,path,row,cloud,output)"
   ]
  },
  {
   "cell_type": "markdown",
   "metadata": {},
   "source": [
    "## Create a True-color image"
   ]
  },
  {
   "cell_type": "markdown",
   "metadata": {},
   "source": [
    "* Landsat 8 provides 11 bands which can be stacked together to highlight different aspects of the Earths' surface. In this case we create a simple Re-Blue-Green (RGB) image. "
   ]
  },
  {
   "cell_type": "code",
   "execution_count": 11,
   "metadata": {},
   "outputs": [],
   "source": [
    "# Read in the red,green and blue bands (Band4,3,2) from the downloaded Landsat images\n",
    "path = '../data/RGB_bands/Band'\n",
    "b2 = io.imread(path+'2.tif')\n",
    "b3 = io.imread(path+'3.tif')\n",
    "b4 = io.imread(path+'4.tif')"
   ]
  },
  {
   "cell_type": "code",
   "execution_count": 12,
   "metadata": {},
   "outputs": [],
   "source": [
    "# Create an RGB image using numpy arrays\n",
    "img_rgb=np.dstack((b4,b3,b2))"
   ]
  },
  {
   "cell_type": "code",
   "execution_count": 13,
   "metadata": {},
   "outputs": [],
   "source": [
    "# Define a function to show the numpy array as true colour image\n",
    "def color_image_show(low_pct=5, high_pct=96, size=15):\n",
    "    # Adjust the intensity of the image\n",
    "    p2, p98 = np.percentile(img_rgb, (low_pct, high_pct))\n",
    "    img_exp = exposure.rescale_intensity(img_rgb, in_range=(p2, p98))\n",
    "    # Plot\n",
    "    fig = plt.figure(figsize=(size, size))\n",
    "    plt.imshow(img_exp/65535)\n",
    "    return plt.show()"
   ]
  },
  {
   "cell_type": "code",
   "execution_count": 14,
   "metadata": {},
   "outputs": [
    {
     "data": {
      "application/vnd.jupyter.widget-view+json": {
       "model_id": "af71e3f55d7e4a638165f10e03b685d5",
       "version_major": 2,
       "version_minor": 0
      },
      "text/plain": [
       "interactive(children=(IntSlider(value=0, description='low_pct', max=15), IntSlider(value=100, description='hig…"
      ]
     },
     "metadata": {},
     "output_type": "display_data"
    }
   ],
   "source": [
    "from ipywidgets import interact, IntSlider\n",
    "interact(color_image_show, \n",
    "         low_pct=IntSlider(0, min=0, max=15), \n",
    "         high_pct=IntSlider(100, min=85, max=100, step=1),\n",
    "         size=IntSlider(5, min=5, max=20));"
   ]
  },
  {
   "cell_type": "code",
   "execution_count": 15,
   "metadata": {},
   "outputs": [],
   "source": [
    "# Adjust the intensity of the image\n",
    "p2, p98 = np.percentile(img_rgb, (5, 95))\n",
    "img_exp = exposure.rescale_intensity(img_rgb, in_range=(p2, p98))\n",
    "# Save image to file\n",
    "io.imsave('../data/RGB.TIF', img_exp)"
   ]
  }
 ],
 "metadata": {
  "kernelspec": {
   "display_name": "Python 3",
   "language": "python",
   "name": "python3"
  },
  "language_info": {
   "codemirror_mode": {
    "name": "ipython",
    "version": 3
   },
   "file_extension": ".py",
   "mimetype": "text/x-python",
   "name": "python",
   "nbconvert_exporter": "python",
   "pygments_lexer": "ipython3",
   "version": "3.6.5"
  }
 },
 "nbformat": 4,
 "nbformat_minor": 2
}
